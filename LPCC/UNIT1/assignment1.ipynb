{
 "cells": [
  {
   "cell_type": "markdown",
   "metadata": {},
   "source": [
    "# Assignment 2\n",
    "### Design suitable data structures & implement pass I of II pass macro processor"
   ]
  },
  {
   "cell_type": "markdown",
   "metadata": {},
   "source": [
    "# Putting Together"
   ]
  },
  {
   "cell_type": "markdown",
   "metadata": {},
   "source": [
    "# Data Structures"
   ]
  },
  {
   "cell_type": "code",
   "execution_count": 272,
   "metadata": {},
   "outputs": [],
   "source": [
    "class MacroNameTable:\n",
    "    def __init__(self) -> None:\n",
    "        self.mnt = dict()\n",
    "    \n",
    "    def addMacro(self, macroName: str, numberOfParameters, startingIndexinMNT) -> bool:\n",
    "        if self.mnt.get(macroName):\n",
    "            return False\n",
    "        else:\n",
    "            self.mnt[macroName] = (numberOfParameters,startingIndexinMNT)\n",
    "            # print(self.mnt)\n",
    "            return True\n",
    "    \n",
    "    def isMacro(self, tokenName:str):\n",
    "        return self.mnt.get(tokenName)\n",
    "\n",
    "    def __repr__(self) -> str:\n",
    "        return f\"MNT({len(self.mnt)})\""
   ]
  },
  {
   "cell_type": "code",
   "execution_count": 266,
   "metadata": {},
   "outputs": [],
   "source": [
    "\n",
    "class MacroDefinationTable:\n",
    "    def __init__(self) -> None:\n",
    "        self.__mdt = dict()\n",
    "    \n",
    "    def addStatement(self, statement: Statement):\n",
    "        self.__mdt[len(self.__mdt)] = statement\n",
    "\n",
    "    def getNewStartIndex(self) -> int:\n",
    "        return len(self.__mdt)\n",
    "\n",
    "    def __repr__(self) -> str:\n",
    "        return f\"MDT({self.__mdt})\""
   ]
  },
  {
   "cell_type": "code",
   "execution_count": 267,
   "metadata": {},
   "outputs": [],
   "source": [
    "class FormalVsPositionalParameter:\n",
    "    pass"
   ]
  },
  {
   "cell_type": "code",
   "execution_count": 268,
   "metadata": {},
   "outputs": [],
   "source": [
    "class Token:\n",
    "    def __init__(self, tokenName) -> None:\n",
    "        self.tokenName = tokenName\n",
    "\n",
    "class OperationCode(Token):\n",
    "    def __init__(self, tokenName) -> None:\n",
    "        super().__init__(tokenName)\n",
    "\n",
    "class Argument(Token):\n",
    "    def __init__(self, tokenName) -> None:\n",
    "        super().__init__(tokenName)\n"
   ]
  },
  {
   "cell_type": "code",
   "execution_count": 269,
   "metadata": {},
   "outputs": [],
   "source": [
    "class Statement:\n",
    "    def __init__(self, token, arguments = []) -> None:\n",
    "        self.token = token\n",
    "        self.args = arguments\n",
    "    \n",
    "\n",
    "    def __repr__(self) -> str:\n",
    "        return f\"Statement({self.token}, {self.args})\"\n",
    "\n",
    "\n",
    "def statementGenerator(statement: str):\n",
    "    statementSplit = statement.split()\n",
    "\n",
    "    if (len(statementSplit) == 0):\n",
    "        return\n",
    "    \n",
    "    if (len(statementSplit) == 1):\n",
    "        return Statement(token=statementSplit[0])\n",
    "    \n",
    "    return Statement(token=statementSplit[0], arguments=statementSplit[1:])"
   ]
  },
  {
   "cell_type": "markdown",
   "metadata": {},
   "source": [
    "# Code Parse"
   ]
  },
  {
   "cell_type": "code",
   "execution_count": 285,
   "metadata": {},
   "outputs": [],
   "source": [
    "class CodeParser:\n",
    "    \n",
    "\n",
    "\n",
    "    def __macroGenerator(self):\n",
    "        while (self.temp_line_count < len(self.statement_list)):\n",
    "            stmt = self.statement_list[self.temp_line_count]\n",
    "            self.temp_line_count+= 1\n",
    "                        \n",
    "            self.mdt.addStatement(stmt)\n",
    "\n",
    "            if (stmt.token == 'MEND'):\n",
    "                return\n",
    "            \n",
    "\n",
    "\n",
    "\n",
    "    def __codeparsing(self):\n",
    "        statement_list = self.code.splitlines()\n",
    "\n",
    "        # removing spaces and tabs and cleaning the code\n",
    "        statement_list = [\" \".join(x.split()) for x in statement_list]\n",
    "        statement_list = [statementGenerator(x) for x in statement_list]\n",
    "        statement_list = [x for x in statement_list if x is not None]\n",
    "        self.statement_list = statement_list\n",
    "        \n",
    "\n",
    "        # print(len(statement_list))\n",
    "        self.printCode()\n",
    "\n",
    "\n",
    "        while(self.temp_line_count < len(statement_list)):\n",
    "            stmt = statement_list[self.temp_line_count]\n",
    "            self.temp_line_count+=1\n",
    "            # print(stmt)\n",
    "            if (stmt.token == 'MACRO'):\n",
    "                \n",
    "                if (self.mnt.addMacro(stmt.args[0], len(stmt.args),  self.mdt.getNewStartIndex()) == True):\n",
    "                    self.__macroGenerator()\n",
    "                    # print(f\"MACRO {stmt.args[0]}\")\n",
    "                else:\n",
    "                    print(\"Macro Redefination Error\")\n",
    "                    return\n",
    "\n",
    "                stmt.token = stmt.args[0]\n",
    "            \n",
    "            \n",
    "            \n",
    "            \n",
    "        # print(statement_list)\n",
    "        # print(self.mnt)\n",
    "        # print(self.mdt)\n",
    "\n",
    "        self.printCode()\n",
    "\n",
    "\n",
    "    def __init__(self, fileName:str) -> None:\n",
    "        with open(file=fileName, mode='r') as codeFile:\n",
    "            self.code = str(codeFile.read())\n",
    "        \n",
    "        self.temp_line_count = 0\n",
    "        self.mnt = MacroNameTable()\n",
    "        self.statement_list = []\n",
    "        self.mdt = MacroDefinationTable()\n",
    "        \n",
    "        self.__codeparsing()\n",
    "    \n",
    "\n",
    "    def printCode(self, ignoreMacro = False):\n",
    "        i = 0\n",
    "\n",
    "            "
   ]
  },
  {
   "cell_type": "code",
   "execution_count": 286,
   "metadata": {},
   "outputs": [
    {
     "name": "stdout",
     "output_type": "stream",
     "text": [
      "LOAD A\n",
      "STORE B\n",
      "MACRO ABC\n",
      "LOAD p\n",
      "LOAD q\n",
      "MEND \n",
      "MACRO ADD1 ARG\n",
      "LOAD X\n",
      "STORE ARG\n",
      "MEND \n",
      "MACRO ADD5 A1, A2, A3\n",
      "STORE A2\n",
      "ADD1 5\n",
      "ADD1 10\n",
      "LOAD A1\n",
      "LOAD A3\n",
      "MEND \n",
      "START \n",
      "ABC \n",
      "ADD5 D1, D2, D3\n",
      "END \n",
      "LOAD A\n",
      "STORE B\n",
      "--MCARO\n",
      "--MCARO\n",
      "--MCARO\n",
      "START \n",
      "--MCARO\n"
     ]
    }
   ],
   "source": [
    "cp = CodeParser(\"macro-code.txt\")\n",
    "# print(cp.code)"
   ]
  },
  {
   "cell_type": "code",
   "execution_count": null,
   "metadata": {},
   "outputs": [],
   "source": []
  }
 ],
 "metadata": {
  "kernelspec": {
   "display_name": "Python 3.10.0 64-bit",
   "language": "python",
   "name": "python3"
  },
  "language_info": {
   "codemirror_mode": {
    "name": "ipython",
    "version": 3
   },
   "file_extension": ".py",
   "mimetype": "text/x-python",
   "name": "python",
   "nbconvert_exporter": "python",
   "pygments_lexer": "ipython3",
   "version": "3.10.0"
  },
  "orig_nbformat": 4,
  "vscode": {
   "interpreter": {
    "hash": "aee8b7b246df8f9039afb4144a1f6fd8d2ca17a180786b69acc140d282b71a49"
   }
  }
 },
 "nbformat": 4,
 "nbformat_minor": 2
}
