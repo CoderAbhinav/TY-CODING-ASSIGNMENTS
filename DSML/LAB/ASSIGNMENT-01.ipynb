{
 "cells": [
  {
   "cell_type": "markdown",
   "metadata": {},
   "source": [
    "# Assignment 1\n",
    "```\n",
    "Perform the following operations using R/Python on suitable data sets, \n",
    "- read data from different formats(like csv, xls),\n",
    "- indexing and selecting data, sort data, describe attributes of data, checking data types of each column, counting unique values of data, format of each column, converting variable data type (e.g. from long to short, vice versa), identifying missing values and fill in the missing values\n",
    "```"
   ]
  },
  {
   "cell_type": "code",
   "execution_count": 2,
   "metadata": {},
   "outputs": [],
   "source": [
    "from pandas import read_csv"
   ]
  },
  {
   "cell_type": "code",
   "execution_count": 3,
   "metadata": {},
   "outputs": [
    {
     "data": {
      "text/plain": [
       "timestamp                   object\n",
       "company                     object\n",
       "level                       object\n",
       "title                       object\n",
       "totalyearlycompensation      int64\n",
       "location                    object\n",
       "yearsofexperience          float64\n",
       "yearsatcompany             float64\n",
       "tag                         object\n",
       "basesalary                 float64\n",
       "stockgrantvalue            float64\n",
       "bonus                      float64\n",
       "gender                      object\n",
       "otherdetails                object\n",
       "cityid                       int64\n",
       "dmaid                      float64\n",
       "rowNumber                    int64\n",
       "Masters_Degree               int64\n",
       "Bachelors_Degree             int64\n",
       "Doctorate_Degree             int64\n",
       "Highschool                   int64\n",
       "Some_College                 int64\n",
       "Race_Asian                   int64\n",
       "Race_White                   int64\n",
       "Race_Two_Or_More             int64\n",
       "Race_Black                   int64\n",
       "Race_Hispanic                int64\n",
       "Race                        object\n",
       "Education                   object\n",
       "dtype: object"
      ]
     },
     "execution_count": 3,
     "metadata": {},
     "output_type": "execute_result"
    }
   ],
   "source": [
    "data_frame = read_csv('salary_data.csv')\n",
    "data_frame.dtypes"
   ]
  },
  {
   "cell_type": "code",
   "execution_count": 4,
   "metadata": {},
   "outputs": [
    {
     "name": "stdout",
     "output_type": "stream",
     "text": [
      "Shape of dataset rows = 62642, attributes = 29\n"
     ]
    }
   ],
   "source": [
    "print(f\"Shape of dataset rows = {data_frame.shape[0]}, attributes = {data_frame.shape[1]}\")"
   ]
  },
  {
   "cell_type": "code",
   "execution_count": 5,
   "metadata": {},
   "outputs": [
    {
     "data": {
      "text/plain": [
       "<bound method NDFrame.head of                 timestamp     company     level                         title  \\\n",
       "0       6/7/2017 11:33:27      Oracle        L3               Product Manager   \n",
       "1      6/10/2017 17:11:29        eBay      SE 2             Software Engineer   \n",
       "2      6/11/2017 14:53:57      Amazon        L7               Product Manager   \n",
       "3       6/17/2017 0:23:14       Apple        M1  Software Engineering Manager   \n",
       "4      6/20/2017 10:58:51   Microsoft        60             Software Engineer   \n",
       "...                   ...         ...       ...                           ...   \n",
       "62637   9/9/2018 11:52:32      Google        T4             Software Engineer   \n",
       "62638   9/13/2018 8:23:32   Microsoft        62             Software Engineer   \n",
       "62639  9/13/2018 14:35:59        MSFT        63             Software Engineer   \n",
       "62640  9/16/2018 16:10:35  Salesforce  Lead MTS             Software Engineer   \n",
       "62641   1/29/2019 5:12:59       apple      ict3             Software Engineer   \n",
       "\n",
       "       totalyearlycompensation           location  yearsofexperience  \\\n",
       "0                       127000   Redwood City, CA                1.5   \n",
       "1                       100000  San Francisco, CA                5.0   \n",
       "2                       310000        Seattle, WA                8.0   \n",
       "3                       372000      Sunnyvale, CA                7.0   \n",
       "4                       157000  Mountain View, CA                5.0   \n",
       "...                        ...                ...                ...   \n",
       "62637                   327000        Seattle, WA               10.0   \n",
       "62638                   237000        Redmond, WA                2.0   \n",
       "62639                   220000        Seattle, WA               14.0   \n",
       "62640                   280000  San Francisco, CA                8.0   \n",
       "62641                   200000      Sunnyvale, CA                0.0   \n",
       "\n",
       "       yearsatcompany                             tag  basesalary  ...  \\\n",
       "0                 1.5                             NaN    107000.0  ...   \n",
       "1                 3.0                             NaN         0.0  ...   \n",
       "2                 0.0                             NaN    155000.0  ...   \n",
       "3                 5.0                             NaN    157000.0  ...   \n",
       "4                 3.0                             NaN         0.0  ...   \n",
       "...               ...                             ...         ...  ...   \n",
       "62637             1.0  Distributed Systems (Back-End)    155000.0  ...   \n",
       "62638             2.0                      Full Stack    146900.0  ...   \n",
       "62639            12.0                      Full Stack    157000.0  ...   \n",
       "62640             4.0                             iOS    194688.0  ...   \n",
       "62641             0.0                         ML / AI    155000.0  ...   \n",
       "\n",
       "       Doctorate_Degree  Highschool Some_College Race_Asian  Race_White  \\\n",
       "0                     0           0            0          0           0   \n",
       "1                     0           0            0          0           0   \n",
       "2                     0           0            0          0           0   \n",
       "3                     0           0            0          0           0   \n",
       "4                     0           0            0          0           0   \n",
       "...                 ...         ...          ...        ...         ...   \n",
       "62637                 0           0            0          0           0   \n",
       "62638                 0           0            0          0           0   \n",
       "62639                 0           0            0          0           0   \n",
       "62640                 0           0            0          0           0   \n",
       "62641                 0           0            0          0           0   \n",
       "\n",
       "       Race_Two_Or_More  Race_Black  Race_Hispanic  Race  Education  \n",
       "0                     0           0              0   NaN        NaN  \n",
       "1                     0           0              0   NaN        NaN  \n",
       "2                     0           0              0   NaN        NaN  \n",
       "3                     0           0              0   NaN        NaN  \n",
       "4                     0           0              0   NaN        NaN  \n",
       "...                 ...         ...            ...   ...        ...  \n",
       "62637                 0           0              0   NaN        NaN  \n",
       "62638                 0           0              0   NaN        NaN  \n",
       "62639                 0           0              0   NaN        NaN  \n",
       "62640                 0           0              0   NaN        NaN  \n",
       "62641                 0           0              0   NaN        NaN  \n",
       "\n",
       "[62642 rows x 29 columns]>"
      ]
     },
     "execution_count": 5,
     "metadata": {},
     "output_type": "execute_result"
    }
   ],
   "source": [
    "data_frame.head"
   ]
  },
  {
   "cell_type": "code",
   "execution_count": 6,
   "metadata": {},
   "outputs": [
    {
     "data": {
      "text/plain": [
       "timestamp                            6/30/2017 16:29:50\n",
       "company                                      Salesforce\n",
       "level                                                 9\n",
       "title                      Software Engineering Manager\n",
       "totalyearlycompensation                          450000\n",
       "location                              San Francisco, CA\n",
       "yearsofexperience                                  16.0\n",
       "yearsatcompany                                      3.0\n",
       "tag                                                 NaN\n",
       "basesalary                                     230000.0\n",
       "stockgrantvalue                                100000.0\n",
       "bonus                                           45000.0\n",
       "gender                                              NaN\n",
       "otherdetails                                        NaN\n",
       "cityid                                             7419\n",
       "dmaid                                             807.0\n",
       "rowNumber                                            18\n",
       "Masters_Degree                                        0\n",
       "Bachelors_Degree                                      0\n",
       "Doctorate_Degree                                      0\n",
       "Highschool                                            0\n",
       "Some_College                                          0\n",
       "Race_Asian                                            0\n",
       "Race_White                                            0\n",
       "Race_Two_Or_More                                      0\n",
       "Race_Black                                            0\n",
       "Race_Hispanic                                         0\n",
       "Race                                                NaN\n",
       "Education                                           NaN\n",
       "Name: 10, dtype: object"
      ]
     },
     "execution_count": 6,
     "metadata": {},
     "output_type": "execute_result"
    }
   ],
   "source": [
    "# accesing rows\n",
    "data_frame.iloc[10]"
   ]
  },
  {
   "cell_type": "code",
   "execution_count": 7,
   "metadata": {},
   "outputs": [
    {
     "data": {
      "text/plain": [
       "'Software Engineering Manager'"
      ]
     },
     "execution_count": 7,
     "metadata": {},
     "output_type": "execute_result"
    }
   ],
   "source": [
    "# accesing field of row\n",
    "data_frame.iloc[3][\"title\"]"
   ]
  },
  {
   "cell_type": "code",
   "execution_count": 8,
   "metadata": {},
   "outputs": [
    {
     "data": {
      "text/plain": [
       "title         Software Engineering Manager\n",
       "location                     Sunnyvale, CA\n",
       "basesalary                        157000.0\n",
       "Name: 3, dtype: object"
      ]
     },
     "execution_count": 8,
     "metadata": {},
     "output_type": "execute_result"
    }
   ],
   "source": [
    "# accesing multiple fields of row\n",
    "data_frame.iloc[3][[\"title\", \"location\", \"basesalary\"]]"
   ]
  },
  {
   "cell_type": "code",
   "execution_count": 9,
   "metadata": {},
   "outputs": [
    {
     "data": {
      "text/plain": [
       "title         Software Engineering Manager\n",
       "location                     Sunnyvale, CA\n",
       "basesalary                        157000.0\n",
       "Name: 3, dtype: object"
      ]
     },
     "execution_count": 9,
     "metadata": {},
     "output_type": "execute_result"
    }
   ],
   "source": [
    "# accesing multiple fields of row\n",
    "data_frame.iloc[3][[\"title\", \"location\", \"basesalary\"]]"
   ]
  },
  {
   "cell_type": "code",
   "execution_count": 10,
   "metadata": {},
   "outputs": [
    {
     "data": {
      "text/plain": [
       "0         Redwood City, CA\n",
       "1        San Francisco, CA\n",
       "2              Seattle, WA\n",
       "3            Sunnyvale, CA\n",
       "4        Mountain View, CA\n",
       "               ...        \n",
       "62637          Seattle, WA\n",
       "62638          Redmond, WA\n",
       "62639          Seattle, WA\n",
       "62640    San Francisco, CA\n",
       "62641        Sunnyvale, CA\n",
       "Name: location, Length: 62642, dtype: object"
      ]
     },
     "execution_count": 10,
     "metadata": {},
     "output_type": "execute_result"
    }
   ],
   "source": [
    "# accesing particular column\n",
    "data_frame[\"location\"]"
   ]
  },
  {
   "cell_type": "code",
   "execution_count": 11,
   "metadata": {},
   "outputs": [
    {
     "data": {
      "text/html": [
       "<div>\n",
       "<style scoped>\n",
       "    .dataframe tbody tr th:only-of-type {\n",
       "        vertical-align: middle;\n",
       "    }\n",
       "\n",
       "    .dataframe tbody tr th {\n",
       "        vertical-align: top;\n",
       "    }\n",
       "\n",
       "    .dataframe thead th {\n",
       "        text-align: right;\n",
       "    }\n",
       "</style>\n",
       "<table border=\"1\" class=\"dataframe\">\n",
       "  <thead>\n",
       "    <tr style=\"text-align: right;\">\n",
       "      <th></th>\n",
       "      <th>location</th>\n",
       "      <th>basesalary</th>\n",
       "    </tr>\n",
       "  </thead>\n",
       "  <tbody>\n",
       "    <tr>\n",
       "      <th>0</th>\n",
       "      <td>Redwood City, CA</td>\n",
       "      <td>107000.0</td>\n",
       "    </tr>\n",
       "    <tr>\n",
       "      <th>1</th>\n",
       "      <td>San Francisco, CA</td>\n",
       "      <td>0.0</td>\n",
       "    </tr>\n",
       "    <tr>\n",
       "      <th>2</th>\n",
       "      <td>Seattle, WA</td>\n",
       "      <td>155000.0</td>\n",
       "    </tr>\n",
       "    <tr>\n",
       "      <th>3</th>\n",
       "      <td>Sunnyvale, CA</td>\n",
       "      <td>157000.0</td>\n",
       "    </tr>\n",
       "    <tr>\n",
       "      <th>4</th>\n",
       "      <td>Mountain View, CA</td>\n",
       "      <td>0.0</td>\n",
       "    </tr>\n",
       "    <tr>\n",
       "      <th>...</th>\n",
       "      <td>...</td>\n",
       "      <td>...</td>\n",
       "    </tr>\n",
       "    <tr>\n",
       "      <th>62637</th>\n",
       "      <td>Seattle, WA</td>\n",
       "      <td>155000.0</td>\n",
       "    </tr>\n",
       "    <tr>\n",
       "      <th>62638</th>\n",
       "      <td>Redmond, WA</td>\n",
       "      <td>146900.0</td>\n",
       "    </tr>\n",
       "    <tr>\n",
       "      <th>62639</th>\n",
       "      <td>Seattle, WA</td>\n",
       "      <td>157000.0</td>\n",
       "    </tr>\n",
       "    <tr>\n",
       "      <th>62640</th>\n",
       "      <td>San Francisco, CA</td>\n",
       "      <td>194688.0</td>\n",
       "    </tr>\n",
       "    <tr>\n",
       "      <th>62641</th>\n",
       "      <td>Sunnyvale, CA</td>\n",
       "      <td>155000.0</td>\n",
       "    </tr>\n",
       "  </tbody>\n",
       "</table>\n",
       "<p>62642 rows × 2 columns</p>\n",
       "</div>"
      ],
      "text/plain": [
       "                location  basesalary\n",
       "0       Redwood City, CA    107000.0\n",
       "1      San Francisco, CA         0.0\n",
       "2            Seattle, WA    155000.0\n",
       "3          Sunnyvale, CA    157000.0\n",
       "4      Mountain View, CA         0.0\n",
       "...                  ...         ...\n",
       "62637        Seattle, WA    155000.0\n",
       "62638        Redmond, WA    146900.0\n",
       "62639        Seattle, WA    157000.0\n",
       "62640  San Francisco, CA    194688.0\n",
       "62641      Sunnyvale, CA    155000.0\n",
       "\n",
       "[62642 rows x 2 columns]"
      ]
     },
     "execution_count": 11,
     "metadata": {},
     "output_type": "execute_result"
    }
   ],
   "source": [
    "# accesing multiple columns\n",
    "data_frame[[\"location\", \"basesalary\"]]"
   ]
  },
  {
   "cell_type": "code",
   "execution_count": 12,
   "metadata": {},
   "outputs": [
    {
     "data": {
      "text/plain": [
       "Software Engineer               41231\n",
       "Product Manager                  4673\n",
       "Software Engineering Manager     3569\n",
       "Data Scientist                   2578\n",
       "Hardware Engineer                2200\n",
       "Product Designer                 1516\n",
       "Technical Program Manager        1381\n",
       "Solution Architect               1157\n",
       "Management Consultant             976\n",
       "Business Analyst                  885\n",
       "Marketing                         710\n",
       "Mechanical Engineer               490\n",
       "Sales                             461\n",
       "Recruiter                         451\n",
       "Human Resources                   364\n",
       "Name: title, dtype: int64"
      ]
     },
     "execution_count": 12,
     "metadata": {},
     "output_type": "execute_result"
    }
   ],
   "source": [
    "# print different job titles in the datasets\n",
    "data_frame[\"title\"].value_counts()"
   ]
  },
  {
   "cell_type": "code",
   "execution_count": 13,
   "metadata": {},
   "outputs": [
    {
     "data": {
      "text/plain": [
       "Amazon                      8126\n",
       "Microsoft                   5216\n",
       "Google                      4330\n",
       "Facebook                    2990\n",
       "Apple                       2028\n",
       "                            ... \n",
       "Samsung research America       1\n",
       "Bny Mellon                     1\n",
       "yelp                           1\n",
       "Bloomberg lp                   1\n",
       "tableau software               1\n",
       "Name: company, Length: 1631, dtype: int64"
      ]
     },
     "execution_count": 13,
     "metadata": {},
     "output_type": "execute_result"
    }
   ],
   "source": [
    "data_frame[\"company\"].value_counts()"
   ]
  },
  {
   "cell_type": "code",
   "execution_count": 14,
   "metadata": {},
   "outputs": [],
   "source": [
    "data_frame = data_frame.sort_values(\"basesalary\",ascending=False)"
   ]
  },
  {
   "cell_type": "code",
   "execution_count": 15,
   "metadata": {},
   "outputs": [
    {
     "data": {
      "text/plain": [
       "160000.0     2806\n",
       "0.0          2304\n",
       "150000.0     2265\n",
       "130000.0     1721\n",
       "140000.0     1684\n",
       "             ... \n",
       "126500.0        1\n",
       "126200.0        1\n",
       "125500.0        1\n",
       "124762.0        1\n",
       "1659870.0       1\n",
       "Name: basesalary, Length: 482, dtype: int64"
      ]
     },
     "execution_count": 15,
     "metadata": {},
     "output_type": "execute_result"
    }
   ],
   "source": [
    "data_frame[\"basesalary\"].value_counts()"
   ]
  },
  {
   "cell_type": "code",
   "execution_count": 16,
   "metadata": {},
   "outputs": [
    {
     "data": {
      "text/html": [
       "<div>\n",
       "<style scoped>\n",
       "    .dataframe tbody tr th:only-of-type {\n",
       "        vertical-align: middle;\n",
       "    }\n",
       "\n",
       "    .dataframe tbody tr th {\n",
       "        vertical-align: top;\n",
       "    }\n",
       "\n",
       "    .dataframe thead th {\n",
       "        text-align: right;\n",
       "    }\n",
       "</style>\n",
       "<table border=\"1\" class=\"dataframe\">\n",
       "  <thead>\n",
       "    <tr style=\"text-align: right;\">\n",
       "      <th></th>\n",
       "      <th>company</th>\n",
       "      <th>title</th>\n",
       "      <th>basesalary</th>\n",
       "      <th>totalyearlycompensation</th>\n",
       "      <th>yearsofexperience</th>\n",
       "    </tr>\n",
       "  </thead>\n",
       "  <tbody>\n",
       "    <tr>\n",
       "      <th>62351</th>\n",
       "      <td>Microsoft</td>\n",
       "      <td>Product Manager</td>\n",
       "      <td>1659870.0</td>\n",
       "      <td>250000</td>\n",
       "      <td>13.0</td>\n",
       "    </tr>\n",
       "    <tr>\n",
       "      <th>61851</th>\n",
       "      <td>Squarespace</td>\n",
       "      <td>Software Engineer</td>\n",
       "      <td>1620000.0</td>\n",
       "      <td>162000</td>\n",
       "      <td>7.0</td>\n",
       "    </tr>\n",
       "    <tr>\n",
       "      <th>45054</th>\n",
       "      <td>PwC</td>\n",
       "      <td>Management Consultant</td>\n",
       "      <td>900000.0</td>\n",
       "      <td>900000</td>\n",
       "      <td>22.0</td>\n",
       "    </tr>\n",
       "    <tr>\n",
       "      <th>56175</th>\n",
       "      <td>Netflix</td>\n",
       "      <td>Software Engineer</td>\n",
       "      <td>893000.0</td>\n",
       "      <td>893000</td>\n",
       "      <td>19.0</td>\n",
       "    </tr>\n",
       "    <tr>\n",
       "      <th>57701</th>\n",
       "      <td>Netflix</td>\n",
       "      <td>Software Engineer</td>\n",
       "      <td>861000.0</td>\n",
       "      <td>861000</td>\n",
       "      <td>15.0</td>\n",
       "    </tr>\n",
       "    <tr>\n",
       "      <th>...</th>\n",
       "      <td>...</td>\n",
       "      <td>...</td>\n",
       "      <td>...</td>\n",
       "      <td>...</td>\n",
       "      <td>...</td>\n",
       "    </tr>\n",
       "    <tr>\n",
       "      <th>4179</th>\n",
       "      <td>IBM</td>\n",
       "      <td>Software Engineer</td>\n",
       "      <td>0.0</td>\n",
       "      <td>120000</td>\n",
       "      <td>0.0</td>\n",
       "    </tr>\n",
       "    <tr>\n",
       "      <th>4176</th>\n",
       "      <td>Goldman Sachs</td>\n",
       "      <td>Software Engineering Manager</td>\n",
       "      <td>0.0</td>\n",
       "      <td>285000</td>\n",
       "      <td>10.0</td>\n",
       "    </tr>\n",
       "    <tr>\n",
       "      <th>9155</th>\n",
       "      <td>Cisco</td>\n",
       "      <td>Software Engineer</td>\n",
       "      <td>0.0</td>\n",
       "      <td>100000</td>\n",
       "      <td>5.0</td>\n",
       "    </tr>\n",
       "    <tr>\n",
       "      <th>9161</th>\n",
       "      <td>Veritas Technologies</td>\n",
       "      <td>Solution Architect</td>\n",
       "      <td>0.0</td>\n",
       "      <td>180000</td>\n",
       "      <td>15.0</td>\n",
       "    </tr>\n",
       "    <tr>\n",
       "      <th>3762</th>\n",
       "      <td>Amazon</td>\n",
       "      <td>Product Designer</td>\n",
       "      <td>0.0</td>\n",
       "      <td>418000</td>\n",
       "      <td>14.0</td>\n",
       "    </tr>\n",
       "  </tbody>\n",
       "</table>\n",
       "<p>62642 rows × 5 columns</p>\n",
       "</div>"
      ],
      "text/plain": [
       "                    company                         title  basesalary  \\\n",
       "62351             Microsoft               Product Manager   1659870.0   \n",
       "61851           Squarespace             Software Engineer   1620000.0   \n",
       "45054                   PwC         Management Consultant    900000.0   \n",
       "56175               Netflix             Software Engineer    893000.0   \n",
       "57701               Netflix             Software Engineer    861000.0   \n",
       "...                     ...                           ...         ...   \n",
       "4179                    IBM             Software Engineer         0.0   \n",
       "4176          Goldman Sachs  Software Engineering Manager         0.0   \n",
       "9155                  Cisco             Software Engineer         0.0   \n",
       "9161   Veritas Technologies            Solution Architect         0.0   \n",
       "3762                 Amazon              Product Designer         0.0   \n",
       "\n",
       "       totalyearlycompensation  yearsofexperience  \n",
       "62351                   250000               13.0  \n",
       "61851                   162000                7.0  \n",
       "45054                   900000               22.0  \n",
       "56175                   893000               19.0  \n",
       "57701                   861000               15.0  \n",
       "...                        ...                ...  \n",
       "4179                    120000                0.0  \n",
       "4176                    285000               10.0  \n",
       "9155                    100000                5.0  \n",
       "9161                    180000               15.0  \n",
       "3762                    418000               14.0  \n",
       "\n",
       "[62642 rows x 5 columns]"
      ]
     },
     "execution_count": 16,
     "metadata": {},
     "output_type": "execute_result"
    }
   ],
   "source": [
    "data_frame[[\"company\", \"title\", \"basesalary\", \"totalyearlycompensation\",\"yearsofexperience\"]]"
   ]
  },
  {
   "cell_type": "code",
   "execution_count": 17,
   "metadata": {},
   "outputs": [
    {
     "data": {
      "text/plain": [
       "count    6.264200e+04\n",
       "mean     1.366873e+05\n",
       "std      6.136928e+04\n",
       "min      0.000000e+00\n",
       "25%      1.080000e+05\n",
       "50%      1.400000e+05\n",
       "75%      1.700000e+05\n",
       "max      1.659870e+06\n",
       "Name: basesalary, dtype: float64"
      ]
     },
     "execution_count": 17,
     "metadata": {},
     "output_type": "execute_result"
    }
   ],
   "source": [
    "data_frame[\"basesalary\"].describe()"
   ]
  },
  {
   "cell_type": "code",
   "execution_count": 18,
   "metadata": {},
   "outputs": [
    {
     "data": {
      "text/html": [
       "<div>\n",
       "<style scoped>\n",
       "    .dataframe tbody tr th:only-of-type {\n",
       "        vertical-align: middle;\n",
       "    }\n",
       "\n",
       "    .dataframe tbody tr th {\n",
       "        vertical-align: top;\n",
       "    }\n",
       "\n",
       "    .dataframe thead th {\n",
       "        text-align: right;\n",
       "    }\n",
       "</style>\n",
       "<table border=\"1\" class=\"dataframe\">\n",
       "  <thead>\n",
       "    <tr style=\"text-align: right;\">\n",
       "      <th></th>\n",
       "      <th>company</th>\n",
       "      <th>title</th>\n",
       "      <th>basesalary</th>\n",
       "      <th>Race</th>\n",
       "    </tr>\n",
       "  </thead>\n",
       "  <tbody>\n",
       "    <tr>\n",
       "      <th>62351</th>\n",
       "      <td>Microsoft</td>\n",
       "      <td>Product Manager</td>\n",
       "      <td>1659870.0</td>\n",
       "      <td>NaN</td>\n",
       "    </tr>\n",
       "    <tr>\n",
       "      <th>61851</th>\n",
       "      <td>Squarespace</td>\n",
       "      <td>Software Engineer</td>\n",
       "      <td>1620000.0</td>\n",
       "      <td>NaN</td>\n",
       "    </tr>\n",
       "    <tr>\n",
       "      <th>45054</th>\n",
       "      <td>PwC</td>\n",
       "      <td>Management Consultant</td>\n",
       "      <td>900000.0</td>\n",
       "      <td>Asian</td>\n",
       "    </tr>\n",
       "    <tr>\n",
       "      <th>56175</th>\n",
       "      <td>Netflix</td>\n",
       "      <td>Software Engineer</td>\n",
       "      <td>893000.0</td>\n",
       "      <td>White</td>\n",
       "    </tr>\n",
       "    <tr>\n",
       "      <th>57701</th>\n",
       "      <td>Netflix</td>\n",
       "      <td>Software Engineer</td>\n",
       "      <td>861000.0</td>\n",
       "      <td>White</td>\n",
       "    </tr>\n",
       "    <tr>\n",
       "      <th>...</th>\n",
       "      <td>...</td>\n",
       "      <td>...</td>\n",
       "      <td>...</td>\n",
       "      <td>...</td>\n",
       "    </tr>\n",
       "    <tr>\n",
       "      <th>54268</th>\n",
       "      <td>Yahoo</td>\n",
       "      <td>Software Engineer</td>\n",
       "      <td>200000.0</td>\n",
       "      <td>White</td>\n",
       "    </tr>\n",
       "    <tr>\n",
       "      <th>55562</th>\n",
       "      <td>Gopuff</td>\n",
       "      <td>Software Engineering Manager</td>\n",
       "      <td>200000.0</td>\n",
       "      <td>White</td>\n",
       "    </tr>\n",
       "    <tr>\n",
       "      <th>37891</th>\n",
       "      <td>Google</td>\n",
       "      <td>Software Engineer</td>\n",
       "      <td>200000.0</td>\n",
       "      <td>NaN</td>\n",
       "    </tr>\n",
       "    <tr>\n",
       "      <th>30367</th>\n",
       "      <td>Google</td>\n",
       "      <td>Product Designer</td>\n",
       "      <td>200000.0</td>\n",
       "      <td>NaN</td>\n",
       "    </tr>\n",
       "    <tr>\n",
       "      <th>23994</th>\n",
       "      <td>PayPal</td>\n",
       "      <td>Software Engineering Manager</td>\n",
       "      <td>200000.0</td>\n",
       "      <td>White</td>\n",
       "    </tr>\n",
       "  </tbody>\n",
       "</table>\n",
       "<p>7088 rows × 4 columns</p>\n",
       "</div>"
      ],
      "text/plain": [
       "           company                         title  basesalary   Race\n",
       "62351    Microsoft               Product Manager   1659870.0    NaN\n",
       "61851  Squarespace             Software Engineer   1620000.0    NaN\n",
       "45054          PwC         Management Consultant    900000.0  Asian\n",
       "56175      Netflix             Software Engineer    893000.0  White\n",
       "57701      Netflix             Software Engineer    861000.0  White\n",
       "...            ...                           ...         ...    ...\n",
       "54268        Yahoo             Software Engineer    200000.0  White\n",
       "55562       Gopuff  Software Engineering Manager    200000.0  White\n",
       "37891       Google             Software Engineer    200000.0    NaN\n",
       "30367       Google              Product Designer    200000.0    NaN\n",
       "23994       PayPal  Software Engineering Manager    200000.0  White\n",
       "\n",
       "[7088 rows x 4 columns]"
      ]
     },
     "execution_count": 18,
     "metadata": {},
     "output_type": "execute_result"
    }
   ],
   "source": [
    "data_frame.query('basesalary >= 200000')[[\"company\", \"title\", \"basesalary\", \"Race\"]]"
   ]
  },
  {
   "cell_type": "code",
   "execution_count": 19,
   "metadata": {},
   "outputs": [
    {
     "data": {
      "text/plain": [
       "Seattle, WA                  8701\n",
       "San Francisco, CA            6797\n",
       "New York, NY                 4562\n",
       "Redmond, WA                  2649\n",
       "Mountain View, CA            2275\n",
       "                             ... \n",
       "Pascagoula, MS                  1\n",
       "Rio Rancho, NM                  1\n",
       "Monroe, LA, United States       1\n",
       "Fort Myers, FL                  1\n",
       "Beverly, MA                     1\n",
       "Name: location, Length: 1050, dtype: int64"
      ]
     },
     "execution_count": 19,
     "metadata": {},
     "output_type": "execute_result"
    }
   ],
   "source": [
    "data_frame[\"location\"].value_counts()"
   ]
  }
 ],
 "metadata": {
  "kernelspec": {
   "display_name": "Python 3.10.0 64-bit",
   "language": "python",
   "name": "python3"
  },
  "language_info": {
   "codemirror_mode": {
    "name": "ipython",
    "version": 3
   },
   "file_extension": ".py",
   "mimetype": "text/x-python",
   "name": "python",
   "nbconvert_exporter": "python",
   "pygments_lexer": "ipython3",
   "version": "3.10.0"
  },
  "orig_nbformat": 4,
  "vscode": {
   "interpreter": {
    "hash": "aee8b7b246df8f9039afb4144a1f6fd8d2ca17a180786b69acc140d282b71a49"
   }
  }
 },
 "nbformat": 4,
 "nbformat_minor": 2
}
